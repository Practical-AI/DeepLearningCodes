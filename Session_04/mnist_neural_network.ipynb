{
 "cells": [
  {
   "cell_type": "code",
   "execution_count": 1,
   "metadata": {},
   "outputs": [],
   "source": [
    "import matplotlib.pyplot as plt\n",
    "import numpy as np\n",
    "import tensorflow as tf"
   ]
  },
  {
   "cell_type": "code",
   "execution_count": 2,
   "metadata": {},
   "outputs": [
    {
     "name": "stdout",
     "output_type": "stream",
     "text": [
      "x_train.shape: (60000, 28, 28)\n",
      "y_train.shape: (60000,)\n",
      "x_test.shape: (10000, 28, 28)\n",
      "y_test.shape: (10000,)\n"
     ]
    }
   ],
   "source": [
    "(x_train, y_train), (x_test, y_test) = tf.keras.datasets.mnist.load_data()\n",
    "print('x_train.shape:',x_train.shape)\n",
    "print('y_train.shape:',y_train.shape)\n",
    "print('x_test.shape:',x_test.shape)\n",
    "print('y_test.shape:',y_test.shape)"
   ]
  },
  {
   "cell_type": "code",
   "execution_count": 3,
   "metadata": {},
   "outputs": [
    {
     "name": "stdout",
     "output_type": "stream",
     "text": [
      "3\n"
     ]
    },
    {
     "data": {
      "text/plain": [
       "(<matplotlib.image.AxesImage at 0x1b67f100ec8>, None)"
      ]
     },
     "execution_count": 3,
     "metadata": {},
     "output_type": "execute_result"
    },
    {
     "data": {
      "image/png": "[encoded data removed]",
      "text/plain": [
       "<Figure size 432x288 with 1 Axes>"
      ]
     },
     "metadata": {
      "needs_background": "light"
     },
     "output_type": "display_data"
    }
   ],
   "source": [
    "idx = 50\n",
    "plt.imshow(x_train[idx], cmap='gray'), print(y_train[idx])"
   ]
  },
  {
   "cell_type": "code",
   "execution_count": 4,
   "metadata": {},
   "outputs": [],
   "source": [
    "# hyperparameters\n",
    "n_classes = 10\n",
    "n_epochs = 20\n",
    "batch_size = 32\n",
    "steps_per_epoch = 60000 // 32\n",
    "lr = 0.001"
   ]
  },
  {
   "cell_type": "code",
   "execution_count": 5,
   "metadata": {},
   "outputs": [
    {
     "name": "stdout",
     "output_type": "stream",
     "text": [
      "x_train.shape: (60000, 784)\n",
      "y_train.shape: (60000, 10)\n",
      "x_test.shape: (10000, 784)\n",
      "y_test.shape: (10000, 10)\n"
     ]
    }
   ],
   "source": [
    "(x_train, y_train), (x_test, y_test) = tf.keras.datasets.mnist.load_data()\n",
    "x_train = x_train.reshape(-1, 784).astype(np.float64) / 255.\n",
    "x_test = x_test.reshape(-1, 784).astype(np.float64) / 255.\n",
    "\n",
    "y_train = tf.one_hot(y_train, depth=n_classes)\n",
    "y_test = tf.one_hot(y_test, depth=n_classes)\n",
    "print('x_train.shape:',x_train.shape)\n",
    "print('y_train.shape:',y_train.shape)\n",
    "print('x_test.shape:',x_test.shape)\n",
    "print('y_test.shape:',y_test.shape)"
   ]
  },
  {
   "cell_type": "code",
   "execution_count": 6,
   "metadata": {},
   "outputs": [],
   "source": [
    "w1 = tf.Variable(np.random.random(size=(784, 256))/100)\n",
    "w2 = tf.Variable(np.random.random(size=(256, 256))/100)\n",
    "w3 = tf.Variable(np.random.random(size=(256, n_classes))/100)\n",
    "\n",
    "b1 = tf.Variable(np.zeros(shape=(256)))\n",
    "b2 = tf.Variable(np.zeros(shape=(256)))\n",
    "b3 = tf.Variable(np.zeros(shape=(n_classes)))"
   ]
  },
  {
   "cell_type": "code",
   "execution_count": 7,
   "metadata": {},
   "outputs": [],
   "source": [
    "optimizer = tf.optimizers.Adam(learning_rate=lr)"
   ]
  },
  {
   "cell_type": "code",
   "execution_count": 8,
   "metadata": {},
   "outputs": [],
   "source": [
    "def model(x, is_training):\n",
    "    h1 = tf.nn.relu(tf.matmul(x, w1) + b1)\n",
    "    h2 = tf.nn.relu(tf.matmul(h1, w2) + b2)\n",
    "    logits = tf.matmul(h2, w3) + b3\n",
    "    if not is_training:\n",
    "        y_pred = tf.nn.softmax(logits)\n",
    "        return y_pred\n",
    "    else:\n",
    "        return logits"
   ]
  },
  {
   "cell_type": "code",
   "execution_count": 9,
   "metadata": {},
   "outputs": [],
   "source": [
    "def categorical_cross_entropy(logits ,y_true):\n",
    "    loss = tf.nn.softmax_cross_entropy_with_logits(y_true, logits)\n",
    "    return tf.reduce_mean(loss)"
   ]
  },
  {
   "cell_type": "code",
   "execution_count": 10,
   "metadata": {},
   "outputs": [],
   "source": [
    "data_loader = tf.data.Dataset.from_tensor_slices((x_train, y_train)).repeat()\n",
    "data_loader = data_loader.shuffle(buffer_size=60000).batch(batch_size)\n",
    "data_loader = data_loader.prefetch(1)"
   ]
  },
  {
   "cell_type": "code",
   "execution_count": 11,
   "metadata": {},
   "outputs": [],
   "source": [
    "@tf.function()\n",
    "def run_optimizer(x_batch, y_batch):\n",
    "    with tf.GradientTape() as tape:\n",
    "        logits = model(x_batch, is_training=True)\n",
    "        loss = categorical_cross_entropy(logits=logits, y_true=y_batch)\n",
    "    grads = tape.gradient(loss, [w1, w2, w3, b1, b2, b3])\n",
    "    optimizer.apply_gradients(zip(grads,[w1, w2, w3, b1, b2, b3] ))"
   ]
  },
  {
   "cell_type": "code",
   "execution_count": 12,
   "metadata": {},
   "outputs": [],
   "source": [
    "def accuracy(y_true, y_pred):\n",
    "    acc = tf.reduce_mean(tf.cast(tf.equal(tf.argmax(y_true, axis=1), tf.argmax(y_pred, axis=1)), dtype=tf.float64))\n",
    "    return acc * 100"
   ]
  },
  {
   "cell_type": "code",
   "execution_count": 13,
   "metadata": {},
   "outputs": [
    {
     "name": "stdout",
     "output_type": "stream",
     "text": [
      "epoch:  0 loss_test: 0.12539097586868034 acc:  96.09\n",
      "epoch:  1 loss_test: 0.0962581548523161 acc:  97.19\n",
      "epoch:  2 loss_test: 0.08056789214517042 acc:  97.50999999999999\n",
      "epoch:  3 loss_test: 0.09167520099754663 acc:  97.55\n",
      "epoch:  4 loss_test: 0.09862267787589517 acc:  97.37\n",
      "epoch:  5 loss_test: 0.08270881215297514 acc:  97.76\n",
      "epoch:  6 loss_test: 0.08933347817503585 acc:  97.77\n",
      "epoch:  7 loss_test: 0.09460600785841204 acc:  97.75\n",
      "epoch:  8 loss_test: 0.09670798507079863 acc:  97.7\n",
      "epoch:  9 loss_test: 0.1064990170791687 acc:  97.78999999999999\n",
      "epoch:  10 loss_test: 0.08742516390235522 acc:  98.04\n",
      "epoch:  11 loss_test: 0.13119027406044734 acc:  97.34\n",
      "epoch:  12 loss_test: 0.12276389997250785 acc:  97.69\n",
      "epoch:  13 loss_test: 0.11352681505365195 acc:  97.74000000000001\n",
      "epoch:  14 loss_test: 0.11012288036430204 acc:  97.95\n",
      "epoch:  15 loss_test: 0.11254165786014136 acc:  97.87\n",
      "epoch:  16 loss_test: 0.12186790839000715 acc:  97.76\n",
      "epoch:  17 loss_test: 0.1510733157444815 acc:  97.54\n",
      "epoch:  18 loss_test: 0.11595754425481632 acc:  97.98\n",
      "epoch:  19 loss_test: 0.14045542508846687 acc:  97.61999999999999\n"
     ]
    }
   ],
   "source": [
    "for epoch in range(n_epochs):\n",
    "    for x_batch, y_batch in data_loader.take(steps_per_epoch):\n",
    "        run_optimizer(x_batch, y_batch)\n",
    "    \n",
    "    y_pred = model(x_test, is_training=False)\n",
    "    loss_test = tf.reduce_mean(tf.losses.categorical_crossentropy(y_test, y_pred))\n",
    "    acc = accuracy(y_test, y_pred)\n",
    "    print('epoch: ', epoch, 'loss_test:', loss_test.numpy(), 'acc: ', acc.numpy() )\n",
    "    "
   ]
  },
  {
   "cell_type": "code",
   "execution_count": 20,
   "metadata": {},
   "outputs": [
    {
     "name": "stdout",
     "output_type": "stream",
     "text": [
      "3\n"
     ]
    },
    {
     "data": {
      "text/plain": [
       "(<matplotlib.image.AxesImage at 0x1b641a4b8c8>, None)"
      ]
     },
     "execution_count": 20,
     "metadata": {},
     "output_type": "execute_result"
    },
    {
     "data": {
      "image/png": "[encoded data removed]",
      "text/plain": [
       "<Figure size 432x288 with 1 Axes>"
      ]
     },
     "metadata": {
      "needs_background": "light"
     },
     "output_type": "display_data"
    }
   ],
   "source": [
    "idx = 1150\n",
    "plt.imshow(x_test[idx].reshape(28,28)), print(np.argmax(model(x_test[idx:idx+1], is_training=False)))"
   ]
  },
  {
   "cell_type": "code",
   "execution_count": null,
   "metadata": {},
   "outputs": [],
   "source": []
  }
 ],
 "metadata": {
  "kernelspec": {
   "display_name": "Python 3",
   "language": "python",
   "name": "python3"
  },
  "language_info": {
   "codemirror_mode": {
    "name": "ipython",
    "version": 3
   },
   "file_extension": ".py",
   "mimetype": "text/x-python",
   "name": "python",
   "nbconvert_exporter": "python",
   "pygments_lexer": "ipython3",
   "version": "3.7.4"
  }
 },
 "nbformat": 4,
 "nbformat_minor": 2
}
