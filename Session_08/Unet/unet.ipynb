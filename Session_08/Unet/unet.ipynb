{
 "cells": [
  {
   "cell_type": "code",
   "execution_count": null,
   "metadata": {
    "colab": {
     "base_uri": "https://localhost:8080/",
     "height": 55
    },
    "colab_type": "code",
    "executionInfo": {
     "elapsed": 2045,
     "status": "ok",
     "timestamp": 1566631303277,
     "user": {
      "displayName": "Pooya Mohammadi",
      "photoUrl": "https://lh3.googleusercontent.com/a-/AAuE7mBu8xLwYmKlu5z11rQPDZzmswvdVD1C9RLEz_UtIQ=s64",
      "userId": "01598311672441059165"
     },
     "user_tz": -270
    },
    "id": "m5uIeXbMbeRH",
    "outputId": "69dcbc40-f3bd-48eb-ac0a-1a3bc0cc999c"
   },
   "outputs": [],
   "source": [
    "from google.colab import drive\n",
    "drive.mount('/content/drive')"
   ]
  },
  {
   "cell_type": "code",
   "execution_count": null,
   "metadata": {
    "colab": {},
    "colab_type": "code",
    "id": "WvgJidzgbTau"
   },
   "outputs": [],
   "source": [
    "import os\n",
    "os.chdir('/content/drive/My Drive/Colab_Notebooks/AdvancedDeepLearningCourse/Session03/UNet/mine_implementation')"
   ]
  },
  {
   "cell_type": "code",
   "execution_count": null,
   "metadata": {
    "colab": {
     "base_uri": "https://localhost:8080/",
     "height": 805
    },
    "colab_type": "code",
    "executionInfo": {
     "elapsed": 3555,
     "status": "ok",
     "timestamp": 1566631311627,
     "user": {
      "displayName": "Pooya Mohammadi",
      "photoUrl": "https://lh3.googleusercontent.com/a-/AAuE7mBu8xLwYmKlu5z11rQPDZzmswvdVD1C9RLEz_UtIQ=s64",
      "userId": "01598311672441059165"
     },
     "user_tz": -270
    },
    "id": "_41wMGBNWXs8",
    "outputId": "688a68f8-d2a1-4368-9d60-d3f901834bc5"
   },
   "outputs": [],
   "source": [
    "from IPython.display import Image\n",
    "Image(filename=\"UNet.png\")"
   ]
  },
  {
   "cell_type": "code",
   "execution_count": 1,
   "metadata": {
    "colab": {
     "base_uri": "https://localhost:8080/",
     "height": 35
    },
    "colab_type": "code",
    "executionInfo": {
     "elapsed": 4064,
     "status": "ok",
     "timestamp": 1566631317116,
     "user": {
      "displayName": "Pooya Mohammadi",
      "photoUrl": "https://lh3.googleusercontent.com/a-/AAuE7mBu8xLwYmKlu5z11rQPDZzmswvdVD1C9RLEz_UtIQ=s64",
      "userId": "01598311672441059165"
     },
     "user_tz": -270
    },
    "id": "Mgo_a2Nxbljg",
    "outputId": "076a6940-87ad-423c-8554-abeacb600961"
   },
   "outputs": [
    {
     "ename": "ModuleNotFoundError",
     "evalue": "No module named 'keras'",
     "output_type": "error",
     "traceback": [
      "\u001b[1;31m---------------------------------------------------------------------------\u001b[0m",
      "\u001b[1;31mModuleNotFoundError\u001b[0m                       Traceback (most recent call last)",
      "\u001b[1;32m<ipython-input-1-3976db428087>\u001b[0m in \u001b[0;36m<module>\u001b[1;34m\u001b[0m\n\u001b[0;32m      4\u001b[0m \u001b[1;32mfrom\u001b[0m \u001b[0mskimage\u001b[0m \u001b[1;32mimport\u001b[0m \u001b[0mtransform\u001b[0m\u001b[1;33m\u001b[0m\u001b[1;33m\u001b[0m\u001b[0m\n\u001b[0;32m      5\u001b[0m \u001b[1;33m\u001b[0m\u001b[0m\n\u001b[1;32m----> 6\u001b[1;33m \u001b[1;32mfrom\u001b[0m \u001b[0mkeras\u001b[0m\u001b[1;33m.\u001b[0m\u001b[0mpreprocessing\u001b[0m\u001b[1;33m.\u001b[0m\u001b[0mimage\u001b[0m \u001b[1;32mimport\u001b[0m \u001b[0mImageDataGenerator\u001b[0m\u001b[1;33m\u001b[0m\u001b[1;33m\u001b[0m\u001b[0m\n\u001b[0m\u001b[0;32m      7\u001b[0m \u001b[1;32mfrom\u001b[0m \u001b[0mkeras\u001b[0m\u001b[1;33m.\u001b[0m\u001b[0mlayers\u001b[0m \u001b[1;32mimport\u001b[0m \u001b[0mFlatten\u001b[0m\u001b[1;33m,\u001b[0m \u001b[0mDense\u001b[0m\u001b[1;33m,\u001b[0m \u001b[0mMaxPooling2D\u001b[0m\u001b[1;33m,\u001b[0m \u001b[0mDropout\u001b[0m\u001b[1;33m\u001b[0m\u001b[1;33m\u001b[0m\u001b[0m\n\u001b[0;32m      8\u001b[0m \u001b[1;32mfrom\u001b[0m \u001b[0mkeras\u001b[0m\u001b[1;33m.\u001b[0m\u001b[0mlayers\u001b[0m \u001b[1;32mimport\u001b[0m \u001b[0mConv2D\u001b[0m\u001b[1;33m,\u001b[0m \u001b[0mUpSampling2D\u001b[0m\u001b[1;33m,\u001b[0m \u001b[0mconcatenate\u001b[0m\u001b[1;33m,\u001b[0m \u001b[0mInput\u001b[0m\u001b[1;33m,\u001b[0m \u001b[0mBatchNormalization\u001b[0m\u001b[1;33m\u001b[0m\u001b[1;33m\u001b[0m\u001b[0m\n",
      "\u001b[1;31mModuleNotFoundError\u001b[0m: No module named 'keras'"
     ]
    }
   ],
   "source": [
    "import numpy as np\n",
    "\n",
    "from skimage import io\n",
    "from skimage import transform\n",
    "\n",
    "from tensorflow.keras.preprocessing.image import ImageDataGenerator\n",
    "from tensorflow.keras.layers import Flatten, Dense, MaxPooling2D, Dropout\n",
    "from tensorflow.keras.layers import Conv2D, UpSampling2D, concatenate, Input, BatchNormalization\n",
    "from tensorflow.keras.models import Model\n",
    "from tensorflow.keras.optimizers import Adam\n",
    "from tensorflow.keras.utils import plot_model\n",
    "from tensorflow.keras.callbacks import ModelCheckpoint"
   ]
  },
  {
   "cell_type": "code",
   "execution_count": null,
   "metadata": {
    "colab": {},
    "colab_type": "code",
    "id": "Disbjssx0uRO"
   },
   "outputs": [],
   "source": [
    "def adjust_data(img, mask):\n",
    "    img = img/255\n",
    "    mask = mask /255\n",
    "    mask[mask > 0.5] = 1\n",
    "    mask[mask <= 0.5] = 0\n",
    "    return img, mask"
   ]
  },
  {
   "cell_type": "code",
   "execution_count": null,
   "metadata": {
    "colab": {},
    "colab_type": "code",
    "id": "zwLTCX4W0wSr"
   },
   "outputs": [],
   "source": [
    "def get_train_generator(batch_size,\n",
    "                        train_path,\n",
    "                        image_folder,\n",
    "                        mask_folder,\n",
    "                        aug_dict,\n",
    "                        image_color_mode = \"grayscale\", \n",
    "                        mask_color_mode = \"grayscale\",\n",
    "                        image_save_prefix  = \"image\",\n",
    "                        mask_save_prefix  = \"mask\",\n",
    "                        save_to_dir = None,\n",
    "                        target_size = (256,256),\n",
    "                        seed = 1):\n",
    "    '''\n",
    "    can generate image and mask at the same time\n",
    "    use the same seed for image_datagen and mask_datagen to ensure the transformation for image\n",
    "    and mask is the same if you want to visualize the results\n",
    "    of generator, set save_to_dir = \"your path\"\n",
    "    '''\n",
    "    \n",
    "    image_datagen = ImageDataGenerator(**aug_dict)\n",
    "    mask_datagen = ImageDataGenerator(**aug_dict)\n",
    "    \n",
    "    image_generator = image_datagen.flow_from_directory(\n",
    "        train_path,\n",
    "        classes = [image_folder],\n",
    "        class_mode = None, # no labels will be returned\n",
    "        color_mode = image_color_mode,\n",
    "        target_size = target_size, # The dimensions to which all images found will be resized\n",
    "        batch_size = batch_size,\n",
    "        save_to_dir = save_to_dir,\n",
    "        save_prefix = image_save_prefix,\n",
    "        seed = seed # random seed for shuffling and transformations\n",
    "    )\n",
    "    \n",
    "    mask_generator = mask_datagen.flow_from_directory(\n",
    "        train_path,\n",
    "        classes=[mask_folder],\n",
    "        class_mode= None, # no labels will be returned\n",
    "        color_mode = image_color_mode,\n",
    "        target_size = target_size, # The dimensions to which all images found will be resized\n",
    "        batch_size = batch_size,\n",
    "        save_to_dir = save_to_dir,\n",
    "        save_prefix = mask_save_prefix,\n",
    "        seed=seed # random seed for shuffling and transformations\n",
    "    )\n",
    "    \n",
    "    for (img, mask) in zip(image_generator, mask_generator):\n",
    "        img, mask = adjust_data(img, mask)\n",
    "        yield img, mask"
   ]
  },
  {
   "cell_type": "code",
   "execution_count": null,
   "metadata": {
    "colab": {},
    "colab_type": "code",
    "id": "qjwtu-QYQhTA"
   },
   "outputs": [],
   "source": [
    "def get_test_generator(test_path, num_images=30, target_size=(256,256), as_gray=True):\n",
    "    for i in range(num_images):\n",
    "        img = io.imread(os.path.join(test_path,f\"{i}.png\"), as_gray = as_gray)\n",
    "        img = img / 255\n",
    "        img = transform.resize(img, target_size)\n",
    "        img = np.reshape(img,(1,) + img.shape + (1,))\n",
    "        yield img"
   ]
  },
  {
   "cell_type": "code",
   "execution_count": null,
   "metadata": {
    "colab": {},
    "colab_type": "code",
    "id": "oczF_t1wRq_l"
   },
   "outputs": [],
   "source": [
    "data_gen_args = dict(rotation_range=0.2,\n",
    "                     width_shift_range=0.05,\n",
    "                     height_shift_range=0.05,\n",
    "                     shear_range=0.05,\n",
    "                     zoom_range=0.05,\n",
    "                     horizontal_flip=True,\n",
    "                     fill_mode='nearest')\n",
    "generator = get_train_generator(batch_size=20,\n",
    "                                train_path='./data/train',\n",
    "                                image_folder='image',\n",
    "                                mask_folder='label',\n",
    "                                aug_dict=data_gen_args,\n",
    "                                save_to_dir = \"./data/train/aug\" )\n",
    "num_batch = 3\n",
    "for i, batch in enumerate(generator):\n",
    "    if i >= num_batch:\n",
    "        break"
   ]
  },
  {
   "cell_type": "code",
   "execution_count": null,
   "metadata": {},
   "outputs": [],
   "source": []
  },
  {
   "cell_type": "code",
   "execution_count": null,
   "metadata": {},
   "outputs": [],
   "source": []
  },
  {
   "cell_type": "code",
   "execution_count": null,
   "metadata": {},
   "outputs": [],
   "source": []
  },
  {
   "cell_type": "code",
   "execution_count": null,
   "metadata": {},
   "outputs": [],
   "source": []
  },
  {
   "cell_type": "code",
   "execution_count": null,
   "metadata": {},
   "outputs": [],
   "source": []
  },
  {
   "cell_type": "code",
   "execution_count": null,
   "metadata": {
    "colab": {},
    "colab_type": "code",
    "id": "gxD0c_usgiuE"
   },
   "outputs": [],
   "source": [
    "# create model\n",
    "def unet(input_shape=(256, 256, 1)):\n",
    "    pass"
   ]
  },
  {
   "cell_type": "code",
   "execution_count": null,
   "metadata": {},
   "outputs": [],
   "source": []
  },
  {
   "cell_type": "code",
   "execution_count": null,
   "metadata": {},
   "outputs": [],
   "source": []
  },
  {
   "cell_type": "code",
   "execution_count": null,
   "metadata": {},
   "outputs": [],
   "source": []
  },
  {
   "cell_type": "code",
   "execution_count": null,
   "metadata": {},
   "outputs": [],
   "source": []
  },
  {
   "cell_type": "code",
   "execution_count": null,
   "metadata": {},
   "outputs": [],
   "source": []
  },
  {
   "cell_type": "code",
   "execution_count": null,
   "metadata": {
    "colab": {
     "base_uri": "https://localhost:8080/",
     "height": 1000
    },
    "colab_type": "code",
    "executionInfo": {
     "elapsed": 3649567,
     "status": "error",
     "timestamp": 1566625941062,
     "user": {
      "displayName": "Pooya Mohammadi",
      "photoUrl": "https://lh3.googleusercontent.com/a-/AAuE7mBu8xLwYmKlu5z11rQPDZzmswvdVD1C9RLEz_UtIQ=s64",
      "userId": "01598311672441059165"
     },
     "user_tz": -270
    },
    "id": "GkVymwGvyLGA",
    "outputId": "21c5819b-0dcb-42ce-8d8e-c4cf901694de",
    "scrolled": false
   },
   "outputs": [],
   "source": [
    "data_gen_args = dict(rotation_range=0.2,\n",
    "                     width_shift_range=0.05,\n",
    "                     height_shift_range=0.05,\n",
    "                     shear_range=0.05,\n",
    "                     zoom_range=0.05,\n",
    "                     horizontal_flip=True,\n",
    "                     fill_mode='nearest')\n",
    "generator = get_train_generator(batch_size=2,\n",
    "                                train_path='data/train',\n",
    "                                image_folder='image',\n",
    "                                mask_folder='label', \n",
    "                                aug_dict=data_gen_args,\n",
    "                                save_to_dir=None)\n",
    "\n",
    "model = unet()\n",
    "model_checkpoint = ModelCheckpoint('unet_membrane.h5',\n",
    "                                   monitor='loss',\n",
    "                                   verbose=1,\n",
    "                                   save_best_only=True)\n",
    "model.fit_generator(generator,\n",
    "                    steps_per_epoch=2000,\n",
    "                    epochs=5,\n",
    "                    callbacks=[model_checkpoint])\n"
   ]
  },
  {
   "cell_type": "code",
   "execution_count": null,
   "metadata": {
    "colab": {},
    "colab_type": "code",
    "id": "FL18bptj1w64"
   },
   "outputs": [],
   "source": [
    "# test your model and save predicted results\n",
    "test_generator = get_test_generator(\"./data/test\")\n",
    "model = unet()\n",
    "model.load_weights(\"unet_membrane.h5\")\n",
    "results = model.predict_generator(test_generator,30,verbose=1)"
   ]
  },
  {
   "cell_type": "code",
   "execution_count": null,
   "metadata": {
    "colab": {},
    "colab_type": "code",
    "id": "nq0FayMWVFYj"
   },
   "outputs": [],
   "source": [
    "for i, item in enumerate(results):\n",
    "    img =  item[:,:,0]\n",
    "    io.imsave(os.path.join(\"./data/test\",\"%d_predict.png\"%i),img)"
   ]
  },
  {
   "cell_type": "markdown",
   "metadata": {},
   "source": [
    "Source Address:\n",
    "\n",
    "https://github.com/zhixuhao/unet"
   ]
  }
 ],
 "metadata": {
  "accelerator": "GPU",
  "colab": {
   "collapsed_sections": [],
   "name": "unet.ipynb",
   "provenance": [],
   "version": "0.3.2"
  },
  "kernelspec": {
   "display_name": "Python 3",
   "language": "python",
   "name": "python3"
  },
  "language_info": {
   "codemirror_mode": {
    "name": "ipython",
    "version": 3
   },
   "file_extension": ".py",
   "mimetype": "text/x-python",
   "name": "python",
   "nbconvert_exporter": "python",
   "pygments_lexer": "ipython3",
   "version": "3.7.4"
  }
 },
 "nbformat": 4,
 "nbformat_minor": 1
}
