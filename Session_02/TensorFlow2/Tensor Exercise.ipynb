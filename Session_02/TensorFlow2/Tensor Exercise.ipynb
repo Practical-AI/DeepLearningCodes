{
 "cells": [
  {
   "cell_type": "markdown",
   "metadata": {},
   "source": [
    "1. Create three 2D tensors(A,P,L) using normal distribution in tensorflow\n",
    "2. Implement the following operation:\n",
    "\n",
    "    $(A'PA)^{-1}A'PL$\n",
    "\n",
    "    A is Constant(matrix),\n",
    "\n",
    "    P is Variable(Diagonal Square matrix),\n",
    "\n",
    "    L is Constant(1D vector)\n",
    "3. print the result"
   ]
  },
  {
   "cell_type": "markdown",
   "metadata": {},
   "source": [
    "A = np.array([\n",
    "                \n",
    "             [1 ,0 ,0 ,0],\n",
    "             [1 ,0.4 ,0.16 ,6.40000e-02],\n",
    "             [1 ,3.2 ,10.24 ,3.27680e+01],\n",
    "             [1 ,6.8 ,46.24 ,3.14432e+02],\n",
    "             [1 ,7.6 ,57.76 ,4.38976e+02],\n",
    "             [1 ,8.9 ,79.21 ,7.04969e+02],\n",
    "             [1 ,10 ,100. ,1.00000e+03]\n",
    "             \n",
    "             ])\n",
    "             \n",
    "L = np.array([\n",
    "\n",
    "             [5.0000,6.6304,48.1488,272.9472,364.2976,554.1834,760.0000]\n",
    "             \n",
    "             ])\n",
    "\n",
    "P = np.eye([7, 7])"
   ]
  },
  {
   "cell_type": "markdown",
   "metadata": {},
   "source": [
    "*:)*"
   ]
  }
 ],
 "metadata": {
  "kernelspec": {
   "display_name": "Python 3",
   "language": "python",
   "name": "python3"
  },
  "language_info": {
   "codemirror_mode": {
    "name": "ipython",
    "version": 3
   },
   "file_extension": ".py",
   "mimetype": "text/x-python",
   "name": "python",
   "nbconvert_exporter": "python",
   "pygments_lexer": "ipython3",
   "version": "3.7.4"
  }
 },
 "nbformat": 4,
 "nbformat_minor": 2
}
