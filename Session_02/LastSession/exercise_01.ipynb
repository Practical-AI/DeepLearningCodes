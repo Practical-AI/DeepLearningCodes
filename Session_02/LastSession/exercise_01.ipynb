{
 "cells": [
  {
   "cell_type": "code",
   "execution_count": 2,
   "metadata": {},
   "outputs": [],
   "source": [
    "import numpy as np\n",
    "import matplotlib.pyplot as plt"
   ]
  },
  {
   "cell_type": "code",
   "execution_count": 3,
   "metadata": {},
   "outputs": [],
   "source": [
    "class_1 = np.random.multivariate_normal(mean=(1,1), cov=[[0.01,0],[0,0.01]], size=100)\n",
    "class_2 = np.random.multivariate_normal(mean=(-1,-1), cov=[[0.01,0],[0,0.01]], size=100)"
   ]
  },
  {
   "cell_type": "code",
   "execution_count": 4,
   "metadata": {},
   "outputs": [],
   "source": [
    "label_1 = np.ones(shape=100)\n",
    "label_2 = np.zeros(shape=100)"
   ]
  },
  {
   "cell_type": "code",
   "execution_count": 7,
   "metadata": {},
   "outputs": [],
   "source": [
    "dataset = np.vstack((class_1,class_2))\n",
    "labels = np.concatenate((label_1,label_2))"
   ]
  },
  {
   "cell_type": "code",
   "execution_count": 9,
   "metadata": {},
   "outputs": [
    {
     "data": {
      "text/plain": [
       "array([0.86061859, 0.91676256])"
      ]
     },
     "execution_count": 9,
     "metadata": {},
     "output_type": "execute_result"
    }
   ],
   "source": [
    "dataset[0]"
   ]
  },
  {
   "cell_type": "code",
   "execution_count": 10,
   "metadata": {},
   "outputs": [
    {
     "data": {
      "text/plain": [
       "1.0"
      ]
     },
     "execution_count": 10,
     "metadata": {},
     "output_type": "execute_result"
    }
   ],
   "source": [
    "labels[0]"
   ]
  },
  {
   "cell_type": "code",
   "execution_count": 12,
   "metadata": {},
   "outputs": [
    {
     "data": {
      "image/png": "[encoded data removed]",
      "text/plain": [
       "<Figure size 432x288 with 1 Axes>"
      ]
     },
     "metadata": {
      "needs_background": "light"
     },
     "output_type": "display_data"
    }
   ],
   "source": [
    "plt.scatter(x = dataset[:,0],y=dataset[:,1], c=labels);"
   ]
  },
  {
   "cell_type": "markdown",
   "metadata": {},
   "source": [
    "### Logistic Regression"
   ]
  },
  {
   "cell_type": "code",
   "execution_count": 13,
   "metadata": {},
   "outputs": [],
   "source": [
    "def sigmoid(z):\n",
    "    return 1/(1 + np.exp(-z))"
   ]
  },
  {
   "cell_type": "code",
   "execution_count": 15,
   "metadata": {},
   "outputs": [],
   "source": [
    "# hyperprameters\n",
    "epochs = 100\n",
    "m = 200\n",
    "lr = 0.1"
   ]
  },
  {
   "cell_type": "code",
   "execution_count": 17,
   "metadata": {
    "scrolled": true
   },
   "outputs": [
    {
     "name": "stdout",
     "output_type": "stream",
     "text": [
      "epoch: 0, w1: 0.05, w2: 0.05, b: 0.00, loss: 0.69\n",
      "epoch: 1, w1: 0.10, w2: 0.10, b: 0.00, loss: 0.65\n",
      "epoch: 2, w1: 0.14, w2: 0.14, b: 0.00, loss: 0.60\n",
      "epoch: 3, w1: 0.18, w2: 0.18, b: 0.00, loss: 0.56\n",
      "epoch: 4, w1: 0.22, w2: 0.23, b: 0.00, loss: 0.53\n",
      "epoch: 5, w1: 0.26, w2: 0.26, b: 0.00, loss: 0.49\n",
      "epoch: 6, w1: 0.30, w2: 0.30, b: 0.00, loss: 0.47\n",
      "epoch: 7, w1: 0.34, w2: 0.34, b: 0.00, loss: 0.44\n",
      "epoch: 8, w1: 0.37, w2: 0.37, b: 0.00, loss: 0.41\n",
      "epoch: 9, w1: 0.40, w2: 0.40, b: 0.00, loss: 0.39\n",
      "epoch: 10, w1: 0.43, w2: 0.43, b: 0.00, loss: 0.37\n",
      "epoch: 11, w1: 0.46, w2: 0.46, b: 0.00, loss: 0.35\n",
      "epoch: 12, w1: 0.49, w2: 0.49, b: 0.00, loss: 0.34\n",
      "epoch: 13, w1: 0.52, w2: 0.52, b: 0.00, loss: 0.32\n",
      "epoch: 14, w1: 0.54, w2: 0.54, b: 0.00, loss: 0.31\n",
      "epoch: 15, w1: 0.57, w2: 0.57, b: 0.00, loss: 0.29\n",
      "epoch: 16, w1: 0.59, w2: 0.59, b: 0.00, loss: 0.28\n",
      "epoch: 17, w1: 0.62, w2: 0.62, b: 0.00, loss: 0.27\n",
      "epoch: 18, w1: 0.64, w2: 0.64, b: 0.00, loss: 0.26\n",
      "epoch: 19, w1: 0.66, w2: 0.66, b: 0.00, loss: 0.25\n",
      "epoch: 20, w1: 0.68, w2: 0.68, b: 0.00, loss: 0.24\n",
      "epoch: 21, w1: 0.70, w2: 0.70, b: 0.00, loss: 0.23\n",
      "epoch: 22, w1: 0.72, w2: 0.72, b: 0.00, loss: 0.22\n",
      "epoch: 23, w1: 0.74, w2: 0.74, b: 0.00, loss: 0.21\n",
      "epoch: 24, w1: 0.76, w2: 0.76, b: 0.00, loss: 0.21\n",
      "epoch: 25, w1: 0.78, w2: 0.78, b: 0.00, loss: 0.20\n",
      "epoch: 26, w1: 0.79, w2: 0.79, b: 0.00, loss: 0.19\n",
      "epoch: 27, w1: 0.81, w2: 0.81, b: 0.00, loss: 0.19\n",
      "epoch: 28, w1: 0.83, w2: 0.83, b: 0.00, loss: 0.18\n",
      "epoch: 29, w1: 0.84, w2: 0.84, b: 0.00, loss: 0.18\n",
      "epoch: 30, w1: 0.86, w2: 0.86, b: 0.00, loss: 0.17\n",
      "epoch: 31, w1: 0.87, w2: 0.87, b: 0.00, loss: 0.17\n",
      "epoch: 32, w1: 0.89, w2: 0.89, b: 0.00, loss: 0.16\n",
      "epoch: 33, w1: 0.90, w2: 0.90, b: 0.00, loss: 0.16\n",
      "epoch: 34, w1: 0.92, w2: 0.92, b: 0.00, loss: 0.15\n",
      "epoch: 35, w1: 0.93, w2: 0.93, b: 0.00, loss: 0.15\n",
      "epoch: 36, w1: 0.95, w2: 0.95, b: 0.00, loss: 0.15\n",
      "epoch: 37, w1: 0.96, w2: 0.96, b: 0.00, loss: 0.14\n",
      "epoch: 38, w1: 0.97, w2: 0.97, b: 0.00, loss: 0.14\n",
      "epoch: 39, w1: 0.98, w2: 0.98, b: 0.00, loss: 0.14\n",
      "epoch: 40, w1: 1.00, w2: 1.00, b: 0.00, loss: 0.13\n",
      "epoch: 41, w1: 1.01, w2: 1.01, b: 0.00, loss: 0.13\n",
      "epoch: 42, w1: 1.02, w2: 1.02, b: 0.00, loss: 0.13\n",
      "epoch: 43, w1: 1.03, w2: 1.03, b: 0.00, loss: 0.12\n",
      "epoch: 44, w1: 1.04, w2: 1.04, b: 0.00, loss: 0.12\n",
      "epoch: 45, w1: 1.05, w2: 1.05, b: 0.00, loss: 0.12\n",
      "epoch: 46, w1: 1.06, w2: 1.07, b: 0.00, loss: 0.12\n",
      "epoch: 47, w1: 1.08, w2: 1.08, b: 0.00, loss: 0.11\n",
      "epoch: 48, w1: 1.09, w2: 1.09, b: 0.00, loss: 0.11\n",
      "epoch: 49, w1: 1.10, w2: 1.10, b: 0.00, loss: 0.11\n",
      "epoch: 50, w1: 1.11, w2: 1.11, b: 0.00, loss: 0.11\n",
      "epoch: 51, w1: 1.12, w2: 1.12, b: 0.00, loss: 0.11\n",
      "epoch: 52, w1: 1.13, w2: 1.13, b: 0.00, loss: 0.10\n",
      "epoch: 53, w1: 1.14, w2: 1.14, b: 0.00, loss: 0.10\n",
      "epoch: 54, w1: 1.14, w2: 1.15, b: 0.00, loss: 0.10\n",
      "epoch: 55, w1: 1.15, w2: 1.15, b: 0.00, loss: 0.10\n",
      "epoch: 56, w1: 1.16, w2: 1.16, b: 0.00, loss: 0.10\n",
      "epoch: 57, w1: 1.17, w2: 1.17, b: 0.00, loss: 0.10\n",
      "epoch: 58, w1: 1.18, w2: 1.18, b: 0.00, loss: 0.09\n",
      "epoch: 59, w1: 1.19, w2: 1.19, b: 0.00, loss: 0.09\n",
      "epoch: 60, w1: 1.20, w2: 1.20, b: 0.00, loss: 0.09\n",
      "epoch: 61, w1: 1.21, w2: 1.21, b: 0.00, loss: 0.09\n",
      "epoch: 62, w1: 1.21, w2: 1.22, b: 0.00, loss: 0.09\n",
      "epoch: 63, w1: 1.22, w2: 1.22, b: 0.00, loss: 0.09\n",
      "epoch: 64, w1: 1.23, w2: 1.23, b: 0.00, loss: 0.09\n",
      "epoch: 65, w1: 1.24, w2: 1.24, b: 0.00, loss: 0.08\n",
      "epoch: 66, w1: 1.25, w2: 1.25, b: 0.00, loss: 0.08\n",
      "epoch: 67, w1: 1.25, w2: 1.26, b: 0.00, loss: 0.08\n",
      "epoch: 68, w1: 1.26, w2: 1.26, b: 0.00, loss: 0.08\n",
      "epoch: 69, w1: 1.27, w2: 1.27, b: 0.00, loss: 0.08\n",
      "epoch: 70, w1: 1.28, w2: 1.28, b: 0.00, loss: 0.08\n",
      "epoch: 71, w1: 1.28, w2: 1.28, b: 0.00, loss: 0.08\n",
      "epoch: 72, w1: 1.29, w2: 1.29, b: 0.00, loss: 0.08\n",
      "epoch: 73, w1: 1.30, w2: 1.30, b: 0.00, loss: 0.07\n",
      "epoch: 74, w1: 1.31, w2: 1.31, b: 0.00, loss: 0.07\n",
      "epoch: 75, w1: 1.31, w2: 1.31, b: 0.00, loss: 0.07\n",
      "epoch: 76, w1: 1.32, w2: 1.32, b: 0.00, loss: 0.07\n",
      "epoch: 77, w1: 1.33, w2: 1.33, b: 0.00, loss: 0.07\n",
      "epoch: 78, w1: 1.33, w2: 1.33, b: 0.00, loss: 0.07\n",
      "epoch: 79, w1: 1.34, w2: 1.34, b: 0.00, loss: 0.07\n",
      "epoch: 80, w1: 1.35, w2: 1.35, b: 0.00, loss: 0.07\n",
      "epoch: 81, w1: 1.35, w2: 1.35, b: 0.00, loss: 0.07\n",
      "epoch: 82, w1: 1.36, w2: 1.36, b: 0.00, loss: 0.07\n",
      "epoch: 83, w1: 1.36, w2: 1.37, b: 0.00, loss: 0.07\n",
      "epoch: 84, w1: 1.37, w2: 1.37, b: 0.00, loss: 0.07\n",
      "epoch: 85, w1: 1.38, w2: 1.38, b: 0.00, loss: 0.06\n",
      "epoch: 86, w1: 1.38, w2: 1.38, b: 0.00, loss: 0.06\n",
      "epoch: 87, w1: 1.39, w2: 1.39, b: 0.00, loss: 0.06\n",
      "epoch: 88, w1: 1.40, w2: 1.40, b: 0.00, loss: 0.06\n",
      "epoch: 89, w1: 1.40, w2: 1.40, b: 0.00, loss: 0.06\n",
      "epoch: 90, w1: 1.41, w2: 1.41, b: 0.00, loss: 0.06\n",
      "epoch: 91, w1: 1.41, w2: 1.41, b: 0.00, loss: 0.06\n",
      "epoch: 92, w1: 1.42, w2: 1.42, b: 0.00, loss: 0.06\n",
      "epoch: 93, w1: 1.42, w2: 1.42, b: 0.00, loss: 0.06\n",
      "epoch: 94, w1: 1.43, w2: 1.43, b: 0.00, loss: 0.06\n",
      "epoch: 95, w1: 1.43, w2: 1.44, b: 0.00, loss: 0.06\n",
      "epoch: 96, w1: 1.44, w2: 1.44, b: 0.00, loss: 0.06\n",
      "epoch: 97, w1: 1.45, w2: 1.45, b: 0.00, loss: 0.06\n",
      "epoch: 98, w1: 1.45, w2: 1.45, b: 0.00, loss: 0.06\n",
      "epoch: 99, w1: 1.46, w2: 1.46, b: 0.00, loss: 0.06\n"
     ]
    }
   ],
   "source": [
    "w1 = w2 = b = 0 # parameters\n",
    "for epoch in range(epochs):\n",
    "    j = dw1 = dw2 = db = 0\n",
    "    for x, y in zip(dataset, labels):\n",
    "        z = w1 * x[0] + w2 * x[1] + b\n",
    "        a = sigmoid(z)\n",
    "        j += -(y * np.log(a) + (1-y) * np.log(1-a))\n",
    "        dz = a - y\n",
    "        dw1 += dz*x[0]\n",
    "        dw2 += dz*x[1]\n",
    "        db += dz\n",
    "    dw1/=m\n",
    "    dw2/=m\n",
    "    db/=m\n",
    "    j/=m\n",
    "    \n",
    "    w1 -= lr * dw1\n",
    "    w2 -= lr * dw2\n",
    "    b -= lr * db\n",
    "    \n",
    "    print(f'epoch: {epoch}, w1: {w1:0.2f}, w2: {w2:0.2f}, b: {b:0.2f}, loss: {j:0.2f}')"
   ]
  },
  {
   "cell_type": "markdown",
   "metadata": {},
   "source": [
    "### Plot Model\n",
    "\n",
    "Equation:\n",
    "\n",
    "$x2 = -\\frac{w1}{w2}*x1 - \\frac{b}{w2}$"
   ]
  },
  {
   "cell_type": "code",
   "execution_count": 18,
   "metadata": {
    "scrolled": true
   },
   "outputs": [
    {
     "data": {
      "image/png": "[encoded data removed]",
      "text/plain": [
       "<Figure size 432x288 with 1 Axes>"
      ]
     },
     "metadata": {
      "needs_background": "light"
     },
     "output_type": "display_data"
    }
   ],
   "source": [
    "x1 = np.linspace(-2,2,500)\n",
    "x2 = -w1/w2*x1 - b/w2\n",
    "plt.figure()\n",
    "plt.scatter(x = dataset[:,0],y=dataset[:,1], c=labels);\n",
    "plt.plot(x1, x2);"
   ]
  },
  {
   "cell_type": "markdown",
   "metadata": {},
   "source": [
    "### Test the model"
   ]
  },
  {
   "cell_type": "code",
   "execution_count": 19,
   "metadata": {},
   "outputs": [],
   "source": [
    "def model(x):\n",
    "    z = w1*x[0] + w2*x[1]+ b\n",
    "    return sigmoid(z)"
   ]
  },
  {
   "cell_type": "code",
   "execution_count": 21,
   "metadata": {},
   "outputs": [
    {
     "data": {
      "text/plain": [
       "-1.4560871531309993"
      ]
     },
     "execution_count": 21,
     "metadata": {},
     "output_type": "execute_result"
    }
   ],
   "source": [
    "z = w1*x[0] + w2*x[1]+ b\n",
    "z"
   ]
  },
  {
   "cell_type": "code",
   "execution_count": 20,
   "metadata": {},
   "outputs": [
    {
     "name": "stdout",
     "output_type": "stream",
     "text": [
      "0.18906651457499798\n"
     ]
    }
   ],
   "source": [
    "x = [-0.5, -0.5]\n",
    "y = model(x)\n",
    "print(y)"
   ]
  },
  {
   "cell_type": "markdown",
   "metadata": {},
   "source": [
    "*:)*"
   ]
  }
 ],
 "metadata": {
  "kernelspec": {
   "display_name": "Python 3",
   "language": "python",
   "name": "python3"
  },
  "language_info": {
   "codemirror_mode": {
    "name": "ipython",
    "version": 3
   },
   "file_extension": ".py",
   "mimetype": "text/x-python",
   "name": "python",
   "nbconvert_exporter": "python",
   "pygments_lexer": "ipython3",
   "version": "3.7.4"
  }
 },
 "nbformat": 4,
 "nbformat_minor": 2
}
