{
 "cells": [
  {
   "cell_type": "code",
   "execution_count": 1,
   "metadata": {},
   "outputs": [],
   "source": [
    "import numpy as np\n",
    "import matplotlib.pyplot as plt\n",
    "from sklearn import datasets\n",
    "from sklearn.model_selection import train_test_split\n",
    "\n",
    "import tensorflow as tf"
   ]
  },
  {
   "cell_type": "code",
   "execution_count": 2,
   "metadata": {},
   "outputs": [
    {
     "name": "stdout",
     "output_type": "stream",
     "text": [
      "x.shape:  (200, 2)\n",
      "y.shape:  (200, 1)\n"
     ]
    }
   ],
   "source": [
    "m = 200\n",
    "x, y = datasets.make_classification(n_samples=m,\n",
    "                                    n_features=2,\n",
    "                                    n_informative=2,\n",
    "                                    n_redundant=0,\n",
    "                                    n_repeated=0,\n",
    "                                    n_classes=2,\n",
    "                                    n_clusters_per_class=1,\n",
    "                                    random_state=100)\n",
    "y = y.reshape(-1, 1)\n",
    "print('x.shape: ', x.shape)\n",
    "print('y.shape: ', y.shape)"
   ]
  },
  {
   "cell_type": "code",
   "execution_count": 3,
   "metadata": {},
   "outputs": [
    {
     "name": "stdout",
     "output_type": "stream",
     "text": [
      "x_train.shape:  (150, 2) y_train.shape:  (150, 1)\n",
      "x_test.shape:  (50, 2) y_test.shape:  (50, 1)\n"
     ]
    }
   ],
   "source": [
    "x_train, x_test, y_train, y_test = train_test_split(x, y, test_size = 0.25)\n",
    "print('x_train.shape: ', x_train.shape, 'y_train.shape: ', y_train.shape)\n",
    "print('x_test.shape: ', x_test.shape, 'y_test.shape: ', y_test.shape)"
   ]
  },
  {
   "cell_type": "code",
   "execution_count": 5,
   "metadata": {},
   "outputs": [
    {
     "data": {
      "image/png": "[encoded data removed]",
      "text/plain": [
       "<Figure size 432x288 with 1 Axes>"
      ]
     },
     "metadata": {
      "needs_background": "light"
     },
     "output_type": "display_data"
    }
   ],
   "source": [
    "plt.scatter(x_train[:,0], x_train[:,1], c=y_train.reshape(-1), marker='o', label='train');\n",
    "plt.scatter(x_test[:,0], x_test[:,1], c=y_test.reshape(-1), marker='*', label='test');\n",
    "plt.legend();\n",
    "plt.show()"
   ]
  },
  {
   "cell_type": "markdown",
   "metadata": {},
   "source": [
    "### Hyper-paramters"
   ]
  },
  {
   "cell_type": "code",
   "execution_count": 6,
   "metadata": {},
   "outputs": [],
   "source": [
    "n_inputs = x_train.shape[1]\n",
    "m = x_train.shape[0]\n",
    "n_outputs = 1\n",
    "lr = 0.01\n",
    "epochs = 500"
   ]
  },
  {
   "cell_type": "markdown",
   "metadata": {},
   "source": [
    "### Defining Variables"
   ]
  },
  {
   "cell_type": "code",
   "execution_count": 7,
   "metadata": {},
   "outputs": [
    {
     "name": "stdout",
     "output_type": "stream",
     "text": [
      "w.shape:  (2, 1)\n",
      "b.shape:  ()\n"
     ]
    }
   ],
   "source": [
    "w = tf.Variable(tf.zeros(shape=(2, 1), dtype=tf.float64), dtype=tf.float64)\n",
    "b = tf.Variable(0, dtype=tf.float64)\n",
    "print(\"w.shape: \",w.shape)\n",
    "print(\"b.shape: \",b.shape)"
   ]
  },
  {
   "cell_type": "code",
   "execution_count": 8,
   "metadata": {},
   "outputs": [],
   "source": [
    "optimizer = tf.optimizers.Adam(learning_rate=lr)"
   ]
  },
  {
   "cell_type": "code",
   "execution_count": 9,
   "metadata": {},
   "outputs": [],
   "source": [
    "def model(x):\n",
    "    z = tf.matmul(x, w) + b \n",
    "    y_pred = tf.sigmoid(z)\n",
    "    return y_pred"
   ]
  },
  {
   "cell_type": "code",
   "execution_count": 10,
   "metadata": {},
   "outputs": [],
   "source": [
    "def loss(y_true, y_pred):\n",
    "    l = -(y_true * tf.math.log(y_pred) + (1- y_true) * tf.math.log(1-y_pred))\n",
    "    return tf.reduce_mean(l)"
   ]
  },
  {
   "cell_type": "code",
   "execution_count": 11,
   "metadata": {},
   "outputs": [],
   "source": [
    "def accuracy(y_pred, y_true):\n",
    "    y_pred_r = tf.round(y_pred)\n",
    "    compare = tf.equal(y_pred_r, y_true)\n",
    "    acc = tf.math.count_nonzero(compare)/ tf.cast(tf.size(y_pred), dtype=tf.int64)\n",
    "    return acc * 100"
   ]
  },
  {
   "cell_type": "code",
   "execution_count": 14,
   "metadata": {},
   "outputs": [
    {
     "data": {
      "text/plain": [
       "numpy.ndarray"
      ]
     },
     "execution_count": 14,
     "metadata": {},
     "output_type": "execute_result"
    }
   ],
   "source": [
    "type(y_trainin)"
   ]
  },
  {
   "cell_type": "code",
   "execution_count": 32,
   "metadata": {},
   "outputs": [
    {
     "name": "stdout",
     "output_type": "stream",
     "text": [
      "4.94 ms ± 715 µs per loop (mean ± std. dev. of 7 runs, 100 loops each)\n"
     ]
    }
   ],
   "source": [
    "def gradient_descent_dynamic(x_train, y_train):\n",
    "    with tf.GradientTape() as tape:\n",
    "        y_pred = model(x_train)\n",
    "        loss_v = loss(y_train, y_pred)\n",
    "    grads = tape.gradient(loss_v, [w, b])\n",
    "    optimizer.apply_gradients(zip(grads,[w, b]))\n",
    "#     return y_pred, loss_v\n",
    "%timeit gradient_descent_dynamic(x_train, y_train)"
   ]
  },
  {
   "cell_type": "code",
   "execution_count": 26,
   "metadata": {},
   "outputs": [],
   "source": [
    "y_train = tf.convert_to_tensor(y_train, dtype=tf.float64 )"
   ]
  },
  {
   "cell_type": "code",
   "execution_count": 33,
   "metadata": {},
   "outputs": [
    {
     "name": "stdout",
     "output_type": "stream",
     "text": [
      "478 µs ± 98.9 µs per loop (mean ± std. dev. of 7 runs, 1 loop each)\n"
     ]
    }
   ],
   "source": [
    "@tf.function()\n",
    "def gradient_descent_static(x_train, y_train):\n",
    "    with tf.GradientTape() as tape:\n",
    "        y_pred = model(x_train)\n",
    "        loss_v = loss(y_train, y_pred)\n",
    "    grads = tape.gradient(loss_v, [w, b])\n",
    "    optimizer.apply_gradients(zip(grads,[w, b]))\n",
    "#     return y_pred, loss_v\n",
    "%timeit gradient_descent_static(x_train, y_train)"
   ]
  },
  {
   "cell_type": "code",
   "execution_count": 34,
   "metadata": {},
   "outputs": [
    {
     "data": {
      "text/plain": [
       "10.418410041841007"
      ]
     },
     "execution_count": 34,
     "metadata": {},
     "output_type": "execute_result"
    }
   ],
   "source": [
    "(4.98 * 1e-3)/(478*1e-6)"
   ]
  },
  {
   "cell_type": "code",
   "execution_count": 97,
   "metadata": {},
   "outputs": [
    {
     "name": "stdout",
     "output_type": "stream",
     "text": [
      "epoch:  0 loss:  0.6931471805599447 acc:  49.333333333333336\n",
      "epoch:  1 loss:  0.6833972919606789 acc:  100.0\n",
      "epoch:  2 loss:  0.6737737616336436 acc:  100.0\n",
      "epoch:  3 loss:  0.6642753398027079 acc:  100.0\n",
      "epoch:  4 loss:  0.6548955387160801 acc:  100.0\n",
      "epoch:  5 loss:  0.6456241807035262 acc:  100.0\n",
      "epoch:  6 loss:  0.6364543893838898 acc:  100.0\n",
      "epoch:  7 loss:  0.6273860228888628 acc:  100.0\n",
      "epoch:  8 loss:  0.6184229291918218 acc:  100.0\n",
      "epoch:  9 loss:  0.6095697676562485 acc:  100.0\n",
      "epoch:  10 loss:  0.600830393287428 acc:  100.0\n",
      "epoch:  11 loss:  0.5922071896609242 acc:  100.0\n",
      "epoch:  12 loss:  0.5837008853614833 acc:  100.0\n",
      "epoch:  13 loss:  0.5753108236651295 acc:  100.0\n",
      "epoch:  14 loss:  0.5670356978454324 acc:  100.0\n",
      "epoch:  15 loss:  0.558874449394339 acc:  100.0\n",
      "epoch:  16 loss:  0.5508268321718867 acc:  100.0\n",
      "epoch:  17 loss:  0.5428934224733881 acc:  100.0\n",
      "epoch:  18 loss:  0.5350752505443587 acc:  100.0\n",
      "epoch:  19 loss:  0.527373336251876 acc:  100.0\n",
      "epoch:  20 loss:  0.5197883109852192 acc:  100.0\n",
      "epoch:  21 loss:  0.5123202088296877 acc:  100.0\n",
      "epoch:  22 loss:  0.5049684613235285 acc:  100.0\n",
      "epoch:  23 loss:  0.4977320834165144 acc:  100.0\n",
      "epoch:  24 loss:  0.49060996744878443 acc:  100.0\n",
      "epoch:  25 loss:  0.48360114876214755 acc:  100.0\n",
      "epoch:  26 loss:  0.4767049290349568 acc:  100.0\n",
      "epoch:  27 loss:  0.46992083100380816 acc:  100.0\n",
      "epoch:  28 loss:  0.4632484406920071 acc:  100.0\n",
      "epoch:  29 loss:  0.4566872247364134 acc:  100.0\n",
      "epoch:  30 loss:  0.4502363984006425 acc:  100.0\n",
      "epoch:  31 loss:  0.4438948879235635 acc:  100.0\n",
      "epoch:  32 loss:  0.43766139123590353 acc:  100.0\n",
      "epoch:  33 loss:  0.4315345016006228 acc:  100.0\n",
      "epoch:  34 loss:  0.4255128344258721 acc:  100.0\n",
      "epoch:  35 loss:  0.41959510284916585 acc:  100.0\n",
      "epoch:  36 loss:  0.41378011944395454 acc:  100.0\n",
      "epoch:  37 loss:  0.4080667385629566 acc:  100.0\n",
      "epoch:  38 loss:  0.402453776335848 acc:  100.0\n",
      "epoch:  39 loss:  0.3969399472178839 acc:  100.0\n",
      "epoch:  40 loss:  0.3915238423030823 acc:  100.0\n",
      "epoch:  41 loss:  0.3862039535604336 acc:  100.0\n",
      "epoch:  42 loss:  0.380978728081466 acc:  100.0\n",
      "epoch:  43 loss:  0.37584662531500196 acc:  100.0\n",
      "epoch:  44 loss:  0.3708061526954837 acc:  100.0\n",
      "epoch:  45 loss:  0.36585586868424724 acc:  100.0\n",
      "epoch:  46 loss:  0.3609943588069038 acc:  100.0\n",
      "epoch:  47 loss:  0.3562202013113331 acc:  100.0\n",
      "epoch:  48 loss:  0.3515319406533749 acc:  100.0\n",
      "epoch:  49 loss:  0.34692808035427525 acc:  100.0\n",
      "epoch:  50 loss:  0.3424070961896876 acc:  100.0\n",
      "epoch:  51 loss:  0.33796746131430916 acc:  100.0\n",
      "epoch:  52 loss:  0.333607670796683 acc:  100.0\n",
      "epoch:  53 loss:  0.3293262553343506 acc:  100.0\n",
      "epoch:  54 loss:  0.3251217805910501 acc:  100.0\n",
      "epoch:  55 loss:  0.3209928357408045 acc:  100.0\n",
      "epoch:  56 loss:  0.3169380189922837 acc:  100.0\n",
      "epoch:  57 loss:  0.31295592775736697 acc:  100.0\n",
      "epoch:  58 loss:  0.3090451575914239 acc:  100.0\n",
      "epoch:  59 loss:  0.3052043092671591 acc:  100.0\n",
      "epoch:  60 loss:  0.301431999695259 acc:  100.0\n",
      "epoch:  61 loss:  0.2977268713512396 acc:  100.0\n",
      "epoch:  62 loss:  0.2940875964699349 acc:  100.0\n",
      "epoch:  63 loss:  0.2905128753265493 acc:  100.0\n",
      "epoch:  64 loss:  0.2870014307446689 acc:  100.0\n",
      "epoch:  65 loss:  0.2835520022834842 acc:  100.0\n",
      "epoch:  66 loss:  0.2801633430327227 acc:  100.0\n",
      "epoch:  67 loss:  0.27683422016841197 acc:  100.0\n",
      "epoch:  68 loss:  0.27356341844367016 acc:  100.0\n",
      "epoch:  69 loss:  0.27034974455671595 acc:  100.0\n",
      "epoch:  70 loss:  0.26719203028856925 acc:  100.0\n",
      "epoch:  71 loss:  0.2640891332416185 acc:  100.0\n",
      "epoch:  72 loss:  0.26103993531554875 acc:  100.0\n",
      "epoch:  73 loss:  0.2580433400526644 acc:  100.0\n",
      "epoch:  74 loss:  0.2550982702692231 acc:  100.0\n",
      "epoch:  75 loss:  0.2522036669693588 acc:  100.0\n",
      "epoch:  76 loss:  0.249358489742566 acc:  100.0\n",
      "epoch:  77 loss:  0.24656171811202318 acc:  100.0\n",
      "epoch:  78 loss:  0.24381235295474815 acc:  100.0\n",
      "epoch:  79 loss:  0.24110941724114743 acc:  100.0\n",
      "epoch:  80 loss:  0.23845195579166942 acc:  100.0\n",
      "epoch:  81 loss:  0.2358390342514923 acc:  100.0\n",
      "epoch:  82 loss:  0.23326973779779456 acc:  100.0\n",
      "epoch:  83 loss:  0.23074317011065418 acc:  100.0\n",
      "epoch:  84 loss:  0.22825845290861693 acc:  100.0\n",
      "epoch:  85 loss:  0.22581472602741562 acc:  100.0\n",
      "epoch:  86 loss:  0.22341114777128424 acc:  100.0\n",
      "epoch:  87 loss:  0.22104689519041276 acc:  100.0\n",
      "epoch:  88 loss:  0.21872116403591116 acc:  100.0\n",
      "epoch:  89 loss:  0.21643316833607965 acc:  100.0\n",
      "epoch:  90 loss:  0.21418213971821673 acc:  100.0\n",
      "epoch:  91 loss:  0.21196732668892276 acc:  100.0\n",
      "epoch:  92 loss:  0.20978799406094895 acc:  100.0\n",
      "epoch:  93 loss:  0.20764342261019864 acc:  100.0\n",
      "epoch:  94 loss:  0.2055329089256955 acc:  100.0\n",
      "epoch:  95 loss:  0.2034557653359916 acc:  100.0\n",
      "epoch:  96 loss:  0.20141131978498183 acc:  100.0\n",
      "epoch:  97 loss:  0.19939891557920447 acc:  100.0\n",
      "epoch:  98 loss:  0.19741791100320744 acc:  100.0\n",
      "epoch:  99 loss:  0.19546767886075925 acc:  100.0\n",
      "epoch:  100 loss:  0.19354760602274892 acc:  100.0\n",
      "epoch:  101 loss:  0.19165709304492864 acc:  100.0\n",
      "epoch:  102 loss:  0.18979555387637043 acc:  100.0\n",
      "epoch:  103 loss:  0.18796241563650423 acc:  100.0\n",
      "epoch:  104 loss:  0.18615711841417798 acc:  100.0\n",
      "epoch:  105 loss:  0.18437911504341184 acc:  100.0\n",
      "epoch:  106 loss:  0.1826278708316326 acc:  100.0\n",
      "epoch:  107 loss:  0.1809028632437825 acc:  100.0\n",
      "epoch:  108 loss:  0.17920358156628458 acc:  100.0\n",
      "epoch:  109 loss:  0.17752952658079685 acc:  100.0\n",
      "epoch:  110 loss:  0.17588021026939601 acc:  100.0\n",
      "epoch:  111 loss:  0.17425515555684454 acc:  100.0\n",
      "epoch:  112 loss:  0.17265389608049114 acc:  100.0\n",
      "epoch:  113 loss:  0.17107597597051302 acc:  100.0\n",
      "epoch:  114 loss:  0.169520949624537 acc:  100.0\n",
      "epoch:  115 loss:  0.16798838146867748 acc:  100.0\n",
      "epoch:  116 loss:  0.16647784570683483 acc:  100.0\n",
      "epoch:  117 loss:  0.1649889260670722 acc:  100.0\n",
      "epoch:  118 loss:  0.16352121555559165 acc:  100.0\n",
      "epoch:  119 loss:  0.16207431622561305 acc:  100.0\n",
      "epoch:  120 loss:  0.1606478389627146 acc:  100.0\n",
      "epoch:  121 loss:  0.1592414032829222 acc:  100.0\n",
      "epoch:  122 loss:  0.15785463713718437 acc:  100.0\n",
      "epoch:  123 loss:  0.15648717671644652 acc:  100.0\n",
      "epoch:  124 loss:  0.15513866625442377 acc:  100.0\n",
      "epoch:  125 loss:  0.15380875782867012 acc:  100.0\n",
      "epoch:  126 loss:  0.152497111163047 acc:  100.0\n",
      "epoch:  127 loss:  0.1512033934353561 acc:  100.0\n",
      "epoch:  128 loss:  0.14992727909282427 acc:  100.0\n",
      "epoch:  129 loss:  0.14866844967613027 acc:  100.0\n",
      "epoch:  130 loss:  0.1474265936507667 acc:  100.0\n",
      "epoch:  131 loss:  0.1462014062435106 acc:  100.0\n",
      "epoch:  132 loss:  0.14499258928186615 acc:  100.0\n",
      "epoch:  133 loss:  0.14379985103527487 acc:  100.0\n",
      "epoch:  134 loss:  0.1426229060580899 acc:  100.0\n",
      "epoch:  135 loss:  0.14146147503522932 acc:  100.0\n",
      "epoch:  136 loss:  0.14031528463173137 acc:  100.0\n",
      "epoch:  137 loss:  0.13918406734713484 acc:  100.0\n",
      "epoch:  138 loss:  0.13806756137494752 acc:  100.0\n",
      "epoch:  139 loss:  0.13696551046679628 acc:  100.0\n",
      "epoch:  140 loss:  0.13587766380044494 acc:  100.0\n",
      "epoch:  141 loss:  0.13480377585084347 acc:  100.0\n",
      "epoch:  142 loss:  0.13374360626365525 acc:  100.0\n",
      "epoch:  143 loss:  0.13269691973112985 acc:  100.0\n",
      "epoch:  144 loss:  0.13166348587054433 acc:  100.0\n",
      "epoch:  145 loss:  0.13064307910560038 acc:  100.0\n",
      "epoch:  146 loss:  0.12963547855111263 acc:  100.0\n",
      "epoch:  147 loss:  0.12864046790112038 acc:  100.0\n",
      "epoch:  148 loss:  0.12765783532031647 acc:  100.0\n",
      "epoch:  149 loss:  0.12668737333851485 acc:  100.0\n",
      "epoch:  150 loss:  0.12572887874782485 acc:  100.0\n",
      "epoch:  151 loss:  0.12478215250226701 acc:  100.0\n",
      "epoch:  152 loss:  0.12384699961969259 acc:  100.0\n",
      "epoch:  153 loss:  0.12292322908600163 acc:  100.0\n",
      "epoch:  154 loss:  0.12201065376173031 acc:  100.0\n",
      "epoch:  155 loss:  0.12110909029108813 acc:  100.0\n",
      "epoch:  156 loss:  0.12021835901347157 acc:  100.0\n",
      "epoch:  157 loss:  0.1193382838774047 acc:  100.0\n",
      "epoch:  158 loss:  0.11846869235678925 acc:  100.0\n",
      "epoch:  159 loss:  0.11760941536931663 acc:  100.0\n",
      "epoch:  160 loss:  0.11676028719690246 acc:  100.0\n",
      "epoch:  161 loss:  0.11592114540804528 acc:  100.0\n",
      "epoch:  162 loss:  0.11509183078205872 acc:  100.0\n",
      "epoch:  163 loss:  0.11427218723516475 acc:  100.0\n",
      "epoch:  164 loss:  0.1134620617484516 acc:  100.0\n",
      "epoch:  165 loss:  0.11266130429769255 acc:  100.0\n",
      "epoch:  166 loss:  0.11186976778499885 acc:  100.0\n",
      "epoch:  167 loss:  0.11108730797225616 acc:  100.0\n"
     ]
    },
    {
     "name": "stdout",
     "output_type": "stream",
     "text": [
      "epoch:  168 loss:  0.11031378341627587 acc:  100.0\n",
      "epoch:  169 loss:  0.10954905540558796 acc:  100.0\n",
      "epoch:  170 loss:  0.10879298789881037 acc:  100.0\n",
      "epoch:  171 loss:  0.10804544746454288 acc:  100.0\n",
      "epoch:  172 loss:  0.10730630322275042 acc:  100.0\n",
      "epoch:  173 loss:  0.1065754267876086 acc:  100.0\n",
      "epoch:  174 loss:  0.1058526922117871 acc:  100.0\n",
      "epoch:  175 loss:  0.10513797593214269 acc:  100.0\n",
      "epoch:  176 loss:  0.10443115671678696 acc:  100.0\n",
      "epoch:  177 loss:  0.1037321156134853 acc:  100.0\n",
      "epoch:  178 loss:  0.10304073589934352 acc:  100.0\n",
      "epoch:  179 loss:  0.10235690303173706 acc:  100.0\n",
      "epoch:  180 loss:  0.10168050460044306 acc:  100.0\n",
      "epoch:  181 loss:  0.10101143028094288 acc:  100.0\n",
      "epoch:  182 loss:  0.10034957178886544 acc:  100.0\n",
      "epoch:  183 loss:  0.0996948228355479 acc:  100.0\n",
      "epoch:  184 loss:  0.09904707908468864 acc:  100.0\n",
      "epoch:  185 loss:  0.09840623811006824 acc:  100.0\n",
      "epoch:  186 loss:  0.09777219935431074 acc:  100.0\n",
      "epoch:  187 loss:  0.09714486408865666 acc:  100.0\n",
      "epoch:  188 loss:  0.0965241353737186 acc:  100.0\n",
      "epoch:  189 loss:  0.09590991802119044 acc:  100.0\n",
      "epoch:  190 loss:  0.09530211855648352 acc:  100.0\n",
      "epoch:  191 loss:  0.09470064518226487 acc:  100.0\n",
      "epoch:  192 loss:  0.0941054077428742 acc:  100.0\n",
      "epoch:  193 loss:  0.09351631768959821 acc:  100.0\n",
      "epoch:  194 loss:  0.09293328804678055 acc:  100.0\n",
      "epoch:  195 loss:  0.09235623337874563 acc:  100.0\n",
      "epoch:  196 loss:  0.09178506975751594 acc:  100.0\n",
      "epoch:  197 loss:  0.09121971473129928 acc:  100.0\n",
      "epoch:  198 loss:  0.0906600872937262 acc:  100.0\n",
      "epoch:  199 loss:  0.0901061078538164 acc:  100.0\n",
      "epoch:  200 loss:  0.08955769820665392 acc:  100.0\n",
      "epoch:  201 loss:  0.08901478150475371 acc:  100.0\n",
      "epoch:  202 loss:  0.088477282230101 acc:  100.0\n",
      "epoch:  203 loss:  0.08794512616684713 acc:  100.0\n",
      "epoch:  204 loss:  0.0874182403746456 acc:  100.0\n",
      "epoch:  205 loss:  0.08689655316261159 acc:  100.0\n",
      "epoch:  206 loss:  0.0863799940638901 acc:  100.0\n",
      "epoch:  207 loss:  0.08586849381081581 acc:  100.0\n",
      "epoch:  208 loss:  0.08536198431065017 acc:  100.0\n",
      "epoch:  209 loss:  0.08486039862188023 acc:  100.0\n",
      "epoch:  210 loss:  0.08436367093106475 acc:  100.0\n",
      "epoch:  211 loss:  0.0838717365302134 acc:  100.0\n",
      "epoch:  212 loss:  0.0833845317946857 acc:  100.0\n",
      "epoch:  213 loss:  0.08290199416159652 acc:  100.0\n",
      "epoch:  214 loss:  0.08242406210871472 acc:  100.0\n",
      "epoch:  215 loss:  0.08195067513384353 acc:  100.0\n",
      "epoch:  216 loss:  0.0814817737346694 acc:  100.0\n",
      "epoch:  217 loss:  0.08101729938906777 acc:  100.0\n",
      "epoch:  218 loss:  0.08055719453585412 acc:  100.0\n",
      "epoch:  219 loss:  0.08010140255596888 acc:  100.0\n",
      "epoch:  220 loss:  0.0796498677540851 acc:  100.0\n",
      "epoch:  221 loss:  0.07920253534062847 acc:  100.0\n",
      "epoch:  222 loss:  0.07875935141419932 acc:  100.0\n",
      "epoch:  223 loss:  0.07832026294438647 acc:  100.0\n",
      "epoch:  224 loss:  0.07788521775496361 acc:  100.0\n",
      "epoch:  225 loss:  0.07745416450745848 acc:  100.0\n",
      "epoch:  226 loss:  0.07702705268508579 acc:  100.0\n",
      "epoch:  227 loss:  0.07660383257703478 acc:  100.0\n",
      "epoch:  228 loss:  0.07618445526310301 acc:  100.0\n",
      "epoch:  229 loss:  0.07576887259866753 acc:  100.0\n",
      "epoch:  230 loss:  0.07535703719998522 acc:  100.0\n",
      "epoch:  231 loss:  0.07494890242981408 acc:  100.0\n",
      "epoch:  232 loss:  0.07454442238334814 acc:  100.0\n",
      "epoch:  233 loss:  0.0741435518744575 acc:  100.0\n",
      "epoch:  234 loss:  0.07374624642222694 acc:  100.0\n",
      "epoch:  235 loss:  0.07335246223778512 acc:  100.0\n",
      "epoch:  236 loss:  0.07296215621141774 acc:  100.0\n",
      "epoch:  237 loss:  0.0725752858999578 acc:  100.0\n",
      "epoch:  238 loss:  0.07219180951444573 acc:  100.0\n",
      "epoch:  239 loss:  0.07181168590805367 acc:  100.0\n",
      "epoch:  240 loss:  0.07143487456426675 acc:  100.0\n",
      "epoch:  241 loss:  0.07106133558531608 acc:  100.0\n",
      "epoch:  242 loss:  0.07069102968085621 acc:  100.0\n",
      "epoch:  243 loss:  0.07032391815688276 acc:  100.0\n",
      "epoch:  244 loss:  0.0699599629048831 acc:  100.0\n",
      "epoch:  245 loss:  0.06959912639121547 acc:  100.0\n",
      "epoch:  246 loss:  0.06924137164671099 acc:  100.0\n",
      "epoch:  247 loss:  0.06888666225649288 acc:  100.0\n",
      "epoch:  248 loss:  0.06853496235000825 acc:  100.0\n",
      "epoch:  249 loss:  0.06818623659126746 acc:  100.0\n",
      "epoch:  250 loss:  0.06784045016928583 acc:  100.0\n",
      "epoch:  251 loss:  0.06749756878872328 acc:  100.0\n",
      "epoch:  252 loss:  0.06715755866071703 acc:  100.0\n",
      "epoch:  253 loss:  0.06682038649390362 acc:  100.0\n",
      "epoch:  254 loss:  0.06648601948562437 acc:  100.0\n",
      "epoch:  255 loss:  0.06615442531331168 acc:  100.0\n",
      "epoch:  256 loss:  0.06582557212605082 acc:  100.0\n",
      "epoch:  257 loss:  0.0654994285363138 acc:  100.0\n",
      "epoch:  258 loss:  0.06517596361186112 acc:  100.0\n",
      "epoch:  259 loss:  0.06485514686780726 acc:  100.0\n",
      "epoch:  260 loss:  0.06453694825884698 acc:  100.0\n",
      "epoch:  261 loss:  0.0642213381716379 acc:  100.0\n",
      "epoch:  262 loss:  0.0639082874173362 acc:  100.0\n",
      "epoch:  263 loss:  0.06359776722428198 acc:  100.0\n",
      "epoch:  264 loss:  0.0632897492308308 acc:  100.0\n",
      "epoch:  265 loss:  0.06298420547832821 acc:  100.0\n",
      "epoch:  266 loss:  0.06268110840422372 acc:  100.0\n",
      "epoch:  267 loss:  0.0623804308353216 acc:  100.0\n",
      "epoch:  268 loss:  0.06208214598116501 acc:  100.0\n",
      "epoch:  269 loss:  0.061786227427550695 acc:  100.0\n",
      "epoch:  270 loss:  0.061492649130171294 acc:  100.0\n",
      "epoch:  271 loss:  0.061201385408382374 acc:  100.0\n",
      "epoch:  272 loss:  0.06091241093909138 acc:  100.0\n",
      "epoch:  273 loss:  0.06062570075076605 acc:  100.0\n",
      "epoch:  274 loss:  0.06034123021755943 acc:  100.0\n",
      "epoch:  275 loss:  0.0600589750535488 acc:  100.0\n",
      "epoch:  276 loss:  0.05977891130708637 acc:  100.0\n",
      "epoch:  277 loss:  0.059501015355259194 acc:  100.0\n",
      "epoch:  278 loss:  0.05922526389845538 acc:  100.0\n",
      "epoch:  279 loss:  0.05895163395503528 acc:  100.0\n",
      "epoch:  280 loss:  0.0586801028561043 acc:  100.0\n",
      "epoch:  281 loss:  0.05841064824038606 acc:  100.0\n",
      "epoch:  282 loss:  0.05814324804919304 acc:  100.0\n",
      "epoch:  283 loss:  0.057877880521492744 acc:  100.0\n",
      "epoch:  284 loss:  0.05761452418906794 acc:  100.0\n",
      "epoch:  285 loss:  0.057353157871767806 acc:  100.0\n",
      "epoch:  286 loss:  0.057093760672849346 acc:  100.0\n",
      "epoch:  287 loss:  0.056836311974405876 acc:  100.0\n",
      "epoch:  288 loss:  0.05658079143288167 acc:  100.0\n",
      "epoch:  289 loss:  0.05632717897467053 acc:  100.0\n",
      "epoch:  290 loss:  0.05607545479179662 acc:  100.0\n",
      "epoch:  291 loss:  0.05582559933767546 acc:  100.0\n",
      "epoch:  292 loss:  0.05557759332295407 acc:  100.0\n",
      "epoch:  293 loss:  0.055331417711427994 acc:  100.0\n",
      "epoch:  294 loss:  0.05508705371603371 acc:  100.0\n",
      "epoch:  295 loss:  0.05484448279491526 acc:  100.0\n",
      "epoch:  296 loss:  0.054603686647562856 acc:  100.0\n",
      "epoch:  297 loss:  0.054364647211022576 acc:  100.0\n",
      "epoch:  298 loss:  0.05412734665617518 acc:  100.0\n",
      "epoch:  299 loss:  0.05389176738408324 acc:  100.0\n",
      "epoch:  300 loss:  0.05365789202240424 acc:  100.0\n",
      "epoch:  301 loss:  0.053425703421869294 acc:  100.0\n",
      "epoch:  302 loss:  0.05319518465282537 acc:  100.0\n",
      "epoch:  303 loss:  0.052966319001840026 acc:  100.0\n",
      "epoch:  304 loss:  0.052739089968367465 acc:  100.0\n",
      "epoch:  305 loss:  0.05251348126147435 acc:  100.0\n",
      "epoch:  306 loss:  0.0522894767966245 acc:  100.0\n",
      "epoch:  307 loss:  0.05206706069252092 acc:  100.0\n",
      "epoch:  308 loss:  0.051846217268004334 acc:  100.0\n",
      "epoch:  309 loss:  0.051626931039006924 acc:  100.0\n",
      "epoch:  310 loss:  0.05140918671555992 acc:  100.0\n",
      "epoch:  311 loss:  0.05119296919885455 acc:  100.0\n",
      "epoch:  312 loss:  0.05097826357835448 acc:  100.0\n",
      "epoch:  313 loss:  0.05076505512895964 acc:  100.0\n",
      "epoch:  314 loss:  0.050553329308219444 acc:  100.0\n",
      "epoch:  315 loss:  0.050343071753595155 acc:  100.0\n",
      "epoch:  316 loss:  0.050134268279770036 acc:  100.0\n",
      "epoch:  317 loss:  0.049926904876006484 acc:  100.0\n",
      "epoch:  318 loss:  0.049720967703549085 acc:  100.0\n",
      "epoch:  319 loss:  0.049516443093072904 acc:  100.0\n",
      "epoch:  320 loss:  0.04931331754217577 acc:  100.0\n",
      "epoch:  321 loss:  0.04911157771291416 acc:  100.0\n",
      "epoch:  322 loss:  0.04891121042938132 acc:  100.0\n",
      "epoch:  323 loss:  0.04871220267532705 acc:  100.0\n",
      "epoch:  324 loss:  0.04851454159181855 acc:  100.0\n",
      "epoch:  325 loss:  0.04831821447494102 acc:  100.0\n",
      "epoch:  326 loss:  0.048123208773537665 acc:  100.0\n",
      "epoch:  327 loss:  0.047929512086988084 acc:  100.0\n",
      "epoch:  328 loss:  0.04773711216302453 acc:  100.0\n",
      "epoch:  329 loss:  0.047545996895585065 acc:  100.0\n",
      "epoch:  330 loss:  0.04735615432270305 acc:  100.0\n",
      "epoch:  331 loss:  0.047167572624432205 acc:  100.0\n",
      "epoch:  332 loss:  0.046980240120806684 acc:  100.0\n",
      "epoch:  333 loss:  0.046794145269835254 acc:  100.0\n"
     ]
    },
    {
     "name": "stdout",
     "output_type": "stream",
     "text": [
      "epoch:  334 loss:  0.046609276665529116 acc:  100.0\n",
      "epoch:  335 loss:  0.046425623035962656 acc:  100.0\n",
      "epoch:  336 loss:  0.04624317324136665 acc:  100.0\n",
      "epoch:  337 loss:  0.04606191627225286 acc:  100.0\n",
      "epoch:  338 loss:  0.045881841247570124 acc:  100.0\n",
      "epoch:  339 loss:  0.04570293741289064 acc:  100.0\n",
      "epoch:  340 loss:  0.045525194138626345 acc:  100.0\n",
      "epoch:  341 loss:  0.04534860091827472 acc:  100.0\n",
      "epoch:  342 loss:  0.045173147366693166 acc:  100.0\n",
      "epoch:  343 loss:  0.04499882321840199 acc:  100.0\n",
      "epoch:  344 loss:  0.04482561832591497 acc:  100.0\n",
      "epoch:  345 loss:  0.04465352265809713 acc:  100.0\n",
      "epoch:  346 loss:  0.04448252629854929 acc:  100.0\n",
      "epoch:  347 loss:  0.0443126194440189 acc:  100.0\n",
      "epoch:  348 loss:  0.04414379240283659 acc:  100.0\n",
      "epoch:  349 loss:  0.04397603559337788 acc:  100.0\n",
      "epoch:  350 loss:  0.043809339542549924 acc:  100.0\n",
      "epoch:  351 loss:  0.04364369488430236 acc:  100.0\n",
      "epoch:  352 loss:  0.04347909235816222 acc:  100.0\n",
      "epoch:  353 loss:  0.04331552280779232 acc:  100.0\n",
      "epoch:  354 loss:  0.04315297717957249 acc:  100.0\n",
      "epoch:  355 loss:  0.042991446521203666 acc:  100.0\n",
      "epoch:  356 loss:  0.04283092198033403 acc:  100.0\n",
      "epoch:  357 loss:  0.04267139480320696 acc:  100.0\n",
      "epoch:  358 loss:  0.04251285633333053 acc:  100.0\n",
      "epoch:  359 loss:  0.04235529801016773 acc:  100.0\n",
      "epoch:  360 loss:  0.04219871136784771 acc:  100.0\n",
      "epoch:  361 loss:  0.04204308803389696 acc:  100.0\n",
      "epoch:  362 loss:  0.04188841972799059 acc:  100.0\n",
      "epoch:  363 loss:  0.04173469826072303 acc:  100.0\n",
      "epoch:  364 loss:  0.04158191553239809 acc:  100.0\n",
      "epoch:  365 loss:  0.04143006353183771 acc:  100.0\n",
      "epoch:  366 loss:  0.041279134335209286 acc:  100.0\n",
      "epoch:  367 loss:  0.04112912010487125 acc:  100.0\n",
      "epoch:  368 loss:  0.040980013088236435 acc:  100.0\n",
      "epoch:  369 loss:  0.04083180561665302 acc:  100.0\n",
      "epoch:  370 loss:  0.040684490104302744 acc:  100.0\n",
      "epoch:  371 loss:  0.04053805904711604 acc:  100.0\n",
      "epoch:  372 loss:  0.04039250502170377 acc:  100.0\n",
      "epoch:  373 loss:  0.040247820684305394 acc:  100.0\n",
      "epoch:  374 loss:  0.04010399876975313 acc:  100.0\n",
      "epoch:  375 loss:  0.03996103209045192 acc:  100.0\n",
      "epoch:  376 loss:  0.039818913535374985 acc:  100.0\n",
      "epoch:  377 loss:  0.03967763606907438 acc:  100.0\n",
      "epoch:  378 loss:  0.03953719273070688 acc:  100.0\n",
      "epoch:  379 loss:  0.039397576633074284 acc:  100.0\n",
      "epoch:  380 loss:  0.039258780961678265 acc:  100.0\n",
      "epoch:  381 loss:  0.039120798973789575 acc:  100.0\n",
      "epoch:  382 loss:  0.03898362399753093 acc:  100.0\n",
      "epoch:  383 loss:  0.038847249430973924 acc:  100.0\n",
      "epoch:  384 loss:  0.03871166874124931 acc:  100.0\n",
      "epoch:  385 loss:  0.03857687546367041 acc:  100.0\n",
      "epoch:  386 loss:  0.03844286320086982 acc:  100.0\n",
      "epoch:  387 loss:  0.03830962562194877 acc:  100.0\n",
      "epoch:  388 loss:  0.03817715646163905 acc:  100.0\n",
      "epoch:  389 loss:  0.03804544951947748 acc:  100.0\n",
      "epoch:  390 loss:  0.03791449865899237 acc:  100.0\n",
      "epoch:  391 loss:  0.037784297806902144 acc:  100.0\n",
      "epoch:  392 loss:  0.03765484095232551 acc:  100.0\n",
      "epoch:  393 loss:  0.0375261221460034 acc:  100.0\n",
      "epoch:  394 loss:  0.03739813549953221 acc:  100.0\n",
      "epoch:  395 loss:  0.037270875184608136 acc:  100.0\n",
      "epoch:  396 loss:  0.037144335432282655 acc:  100.0\n",
      "epoch:  397 loss:  0.03701851053222881 acc:  100.0\n",
      "epoch:  398 loss:  0.03689339483201799 acc:  100.0\n",
      "epoch:  399 loss:  0.03676898273640736 acc:  100.0\n",
      "epoch:  400 loss:  0.03664526870663737 acc:  100.0\n",
      "epoch:  401 loss:  0.03652224725973961 acc:  100.0\n",
      "epoch:  402 loss:  0.036399912967854456 acc:  100.0\n",
      "epoch:  403 loss:  0.03627826045755849 acc:  100.0\n",
      "epoch:  404 loss:  0.036157284409201705 acc:  100.0\n",
      "epoch:  405 loss:  0.036036979556254005 acc:  100.0\n",
      "epoch:  406 loss:  0.03591734068466117 acc:  100.0\n",
      "epoch:  407 loss:  0.03579836263220972 acc:  100.0\n",
      "epoch:  408 loss:  0.03568004028790129 acc:  100.0\n",
      "epoch:  409 loss:  0.03556236859133522 acc:  100.0\n",
      "epoch:  410 loss:  0.03544534253210047 acc:  100.0\n",
      "epoch:  411 loss:  0.03532895714917564 acc:  100.0\n",
      "epoch:  412 loss:  0.03521320753033784 acc:  100.0\n",
      "epoch:  413 loss:  0.03509808881157951 acc:  100.0\n",
      "epoch:  414 loss:  0.034983596176533675 acc:  100.0\n",
      "epoch:  415 loss:  0.03486972485590709 acc:  100.0\n",
      "epoch:  416 loss:  0.034756470126921415 acc:  100.0\n",
      "epoch:  417 loss:  0.03464382731276197 acc:  100.0\n",
      "epoch:  418 loss:  0.03453179178203448 acc:  100.0\n",
      "epoch:  419 loss:  0.03442035894822903 acc:  100.0\n",
      "epoch:  420 loss:  0.03430952426919164 acc:  100.0\n",
      "epoch:  421 loss:  0.034199283246603075 acc:  100.0\n",
      "epoch:  422 loss:  0.034089631425464915 acc:  100.0\n",
      "epoch:  423 loss:  0.033980564393592545 acc:  100.0\n",
      "epoch:  424 loss:  0.03387207778111523 acc:  100.0\n",
      "epoch:  425 loss:  0.033764167259983074 acc:  100.0\n",
      "epoch:  426 loss:  0.03365682854348059 acc:  100.0\n",
      "epoch:  427 loss:  0.03355005738574701 acc:  100.0\n",
      "epoch:  428 loss:  0.03344384958130312 acc:  100.0\n",
      "epoch:  429 loss:  0.033338200964584536 acc:  100.0\n",
      "epoch:  430 loss:  0.0332331074094812 acc:  100.0\n",
      "epoch:  431 loss:  0.03312856482888329 acc:  100.0\n",
      "epoch:  432 loss:  0.03302456917423318 acc:  100.0\n",
      "epoch:  433 loss:  0.032921116435083365 acc:  100.0\n",
      "epoch:  434 loss:  0.03281820263866052 acc:  100.0\n",
      "epoch:  435 loss:  0.03271582384943521 acc:  100.0\n",
      "epoch:  436 loss:  0.03261397616869757 acc:  100.0\n",
      "epoch:  437 loss:  0.03251265573413851 acc:  100.0\n",
      "epoch:  438 loss:  0.03241185871943655 acc:  100.0\n",
      "epoch:  439 loss:  0.03231158133385022 acc:  100.0\n",
      "epoch:  440 loss:  0.03221181982181583 acc:  100.0\n",
      "epoch:  441 loss:  0.032112570462550574 acc:  100.0\n",
      "epoch:  442 loss:  0.03201382956966097 acc:  100.0\n",
      "epoch:  443 loss:  0.03191559349075631 acc:  100.0\n",
      "epoch:  444 loss:  0.031817858607067435 acc:  100.0\n",
      "epoch:  445 loss:  0.03172062133307033 acc:  100.0\n",
      "epoch:  446 loss:  0.03162387811611485 acc:  100.0\n",
      "epoch:  447 loss:  0.03152762543605811 acc:  100.0\n",
      "epoch:  448 loss:  0.03143185980490285 acc:  100.0\n",
      "epoch:  449 loss:  0.03133657776644055 acc:  100.0\n",
      "epoch:  450 loss:  0.031241775895898893 acc:  100.0\n",
      "epoch:  451 loss:  0.031147450799594262 acc:  100.0\n",
      "epoch:  452 loss:  0.031053599114588434 acc:  100.0\n",
      "epoch:  453 loss:  0.030960217508349815 acc:  100.0\n",
      "epoch:  454 loss:  0.030867302678419122 acc:  100.0\n",
      "epoch:  455 loss:  0.030774851352079285 acc:  100.0\n",
      "epoch:  456 loss:  0.030682860286029675 acc:  100.0\n",
      "epoch:  457 loss:  0.030591326266064478 acc:  100.0\n",
      "epoch:  458 loss:  0.0305002461067553 acc:  100.0\n",
      "epoch:  459 loss:  0.030409616651137648 acc:  100.0\n",
      "epoch:  460 loss:  0.030319434770401634 acc:  100.0\n",
      "epoch:  461 loss:  0.030229697363586532 acc:  100.0\n",
      "epoch:  462 loss:  0.030140401357279186 acc:  100.0\n",
      "epoch:  463 loss:  0.030051543705316344 acc:  100.0\n",
      "epoch:  464 loss:  0.029963121388490707 acc:  100.0\n",
      "epoch:  465 loss:  0.029875131414260736 acc:  100.0\n",
      "epoch:  466 loss:  0.029787570816464156 acc:  100.0\n",
      "epoch:  467 loss:  0.029700436655034988 acc:  100.0\n",
      "epoch:  468 loss:  0.02961372601572431 acc:  100.0\n",
      "epoch:  469 loss:  0.029527436009824253 acc:  100.0\n",
      "epoch:  470 loss:  0.029441563773895823 acc:  100.0\n",
      "epoch:  471 loss:  0.029356106469499828 acc:  100.0\n",
      "epoch:  472 loss:  0.02927106128293132 acc:  100.0\n",
      "epoch:  473 loss:  0.029186425424957405 acc:  100.0\n",
      "epoch:  474 loss:  0.02910219613055809 acc:  100.0\n",
      "epoch:  475 loss:  0.029018370658670602 acc:  100.0\n",
      "epoch:  476 loss:  0.02893494629193685 acc:  100.0\n",
      "epoch:  477 loss:  0.02885192033645378 acc:  100.0\n",
      "epoch:  478 loss:  0.028769290121527107 acc:  100.0\n",
      "epoch:  479 loss:  0.02868705299942801 acc:  100.0\n",
      "epoch:  480 loss:  0.028605206345152675 acc:  100.0\n",
      "epoch:  481 loss:  0.028523747556184986 acc:  100.0\n",
      "epoch:  482 loss:  0.028442674052262033 acc:  100.0\n",
      "epoch:  483 loss:  0.02836198327514253 acc:  100.0\n",
      "epoch:  484 loss:  0.028281672688378036 acc:  100.0\n",
      "epoch:  485 loss:  0.02820173977708701 acc:  100.0\n",
      "epoch:  486 loss:  0.028122182047731575 acc:  100.0\n",
      "epoch:  487 loss:  0.02804299702789703 acc:  100.0\n",
      "epoch:  488 loss:  0.02796418226607402 acc:  100.0\n",
      "epoch:  489 loss:  0.027885735331443454 acc:  100.0\n",
      "epoch:  490 loss:  0.027807653813663725 acc:  100.0\n",
      "epoch:  491 loss:  0.027729935322660968 acc:  100.0\n",
      "epoch:  492 loss:  0.02765257748842141 acc:  100.0\n",
      "epoch:  493 loss:  0.02757557796078642 acc:  100.0\n"
     ]
    },
    {
     "name": "stdout",
     "output_type": "stream",
     "text": [
      "epoch:  494 loss:  0.027498934409250046 acc:  100.0\n",
      "epoch:  495 loss:  0.027422644522758947 acc:  100.0\n",
      "epoch:  496 loss:  0.02734670600951463 acc:  100.0\n",
      "epoch:  497 loss:  0.027271116596778208 acc:  100.0\n",
      "epoch:  498 loss:  0.027195874030677344 acc:  100.0\n",
      "epoch:  499 loss:  0.02712097607601565 acc:  100.0\n"
     ]
    }
   ],
   "source": [
    "for epoch in range(epochs):\n",
    "    y_pred, loss_v = gradient_descent(x_train, y_train)\n",
    "    acc = accuracy(y_pred, y_train)\n",
    "    print('epoch: ', epoch, 'loss: ', loss_v.numpy(), 'acc: ', acc.numpy())"
   ]
  },
  {
   "cell_type": "code",
   "execution_count": 98,
   "metadata": {},
   "outputs": [],
   "source": [
    "w1, w2 = w.numpy()"
   ]
  },
  {
   "cell_type": "code",
   "execution_count": 99,
   "metadata": {},
   "outputs": [
    {
     "data": {
      "image/png": "[encoded data removed]",
      "text/plain": [
       "<Figure size 432x288 with 1 Axes>"
      ]
     },
     "metadata": {
      "needs_background": "light"
     },
     "output_type": "display_data"
    }
   ],
   "source": [
    "x1 = np.linspace(-2,2,500)\n",
    "x2 = -w1/w2*x1 - b/w2\n",
    "plt.figure()\n",
    "plt.scatter(x_train[:,0], x_train[:,1], c=y_train.reshape(-1), marker='o', label='train');\n",
    "plt.scatter(x_test[:,0], x_test[:,1], c=y_test.reshape(-1), marker='*', label='test');\n",
    "plt.legend();\n",
    "plt.plot(x1, x2);"
   ]
  },
  {
   "cell_type": "markdown",
   "metadata": {},
   "source": [
    "*:)*"
   ]
  }
 ],
 "metadata": {
  "kernelspec": {
   "display_name": "Python 3",
   "language": "python",
   "name": "python3"
  },
  "language_info": {
   "codemirror_mode": {
    "name": "ipython",
    "version": 3
   },
   "file_extension": ".py",
   "mimetype": "text/x-python",
   "name": "python",
   "nbconvert_exporter": "python",
   "pygments_lexer": "ipython3",
   "version": "3.7.4"
  }
 },
 "nbformat": 4,
 "nbformat_minor": 2
}
